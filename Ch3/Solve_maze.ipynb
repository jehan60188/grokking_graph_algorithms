{
  "nbformat": 4,
  "nbformat_minor": 0,
  "metadata": {
    "colab": {
      "provenance": [],
      "collapsed_sections": [],
      "authorship_tag": "ABX9TyP6L5zZTp8rL0Gvo4m4mVg8",
      "include_colab_link": true
    },
    "kernelspec": {
      "name": "python3",
      "display_name": "Python 3"
    },
    "language_info": {
      "name": "python"
    }
  },
  "cells": [
    {
      "cell_type": "markdown",
      "metadata": {
        "id": "view-in-github",
        "colab_type": "text"
      },
      "source": [
        "<a href=\"https://colab.research.google.com/github/jehan60188/grokking_graph_algorithms/blob/main/Ch3/Solve_maze.ipynb\" target=\"_parent\"><img src=\"https://colab.research.google.com/assets/colab-badge.svg\" alt=\"Open In Colab\"/></a>"
      ]
    },
    {
      "cell_type": "markdown",
      "source": [
        "# How to solve a maze using depth first search:\n",
        "\n",
        "This code will show you how to implement depth first search on a graph using a stack."
      ],
      "metadata": {
        "id": "CBh3Tg7Vshb9"
      }
    },
    {
      "cell_type": "code",
      "source": [
        "#first create a Node class\n",
        "class Node(): #A\n",
        "    def __init__(self, name, neighbors = None):\n",
        "        self.name = name\n",
        "        self.neighbors = neighbors if neighbors else []\n",
        "        self.visited = False\n",
        "\n",
        "    def __eq__(self, other):\n",
        "      return self.name == other.name\n"
      ],
      "metadata": {
        "id": "10GaYwRysfzY"
      },
      "execution_count": 11,
      "outputs": []
    },
    {
      "cell_type": "code",
      "source": [
        "def DFS(startingNode, targetNode):\n",
        "    stack = []\n",
        "    stack.append(startingNode)\n",
        "    while stack:\n",
        "        current_node = stack.pop()\n",
        "        #uncomment the next line if you want to see which node the algorithm visits\n",
        "        #print('Current node:', current_node.name)\n",
        "        #uncomment the next line if you want to see how the stack grows\n",
        "        #print('current stack:', [x.name for x in stack])\n",
        "        if current_node == targetNode:\n",
        "            return \"success!\"\n",
        "        if not current_node.visited:\n",
        "            current_node.visited = True\n",
        "        for neighbor in current_node.neighbors:\n",
        "            if not neighbor.visited:\n",
        "                    stack.append(neighbor)\n",
        "    return \"failed to find target node!\"\n"
      ],
      "metadata": {
        "id": "RU3GADXUsf35"
      },
      "execution_count": 37,
      "outputs": []
    },
    {
      "cell_type": "code",
      "source": [
        "#this is a helper function that will create nodes and edges for us\n",
        "def make_nodes():\n",
        "  #Then create a few nodes and connect them\n",
        "  #The starting point\n",
        "  start = Node('start')\n",
        "  #the ending point\n",
        "  end = Node('End')\n",
        "  #A few more nodes\n",
        "  A = Node('A')\n",
        "  B = Node('B')\n",
        "  C = Node('C')\n",
        "  #and some edges\n",
        "  start.neighbors = [A]\n",
        "  A.neighbors = [start, B, C]\n",
        "  B.neighbors = [A, C]\n",
        "  C.neighbors = [end, A, B]\n",
        "  end.neighbors = [C]\n",
        "  return start, end, A,B,C\n",
        "\n"
      ],
      "metadata": {
        "id": "Vq7hE-utumvC"
      },
      "execution_count": 35,
      "outputs": []
    },
    {
      "cell_type": "code",
      "source": [
        "start, end, _,_,_ = make_nodes()\n",
        "DFS(start, end)"
      ],
      "metadata": {
        "colab": {
          "base_uri": "https://localhost:8080/",
          "height": 37
        },
        "id": "lZwsBoGsx4Oq",
        "outputId": "19f5ee15-2a94-4e19-ef1b-b43572ffb7f8"
      },
      "execution_count": 38,
      "outputs": [
        {
          "output_type": "execute_result",
          "data": {
            "text/plain": [
              "'success!'"
            ],
            "application/vnd.google.colaboratory.intrinsic+json": {
              "type": "string"
            }
          },
          "metadata": {},
          "execution_count": 38
        }
      ]
    }
  ]
}
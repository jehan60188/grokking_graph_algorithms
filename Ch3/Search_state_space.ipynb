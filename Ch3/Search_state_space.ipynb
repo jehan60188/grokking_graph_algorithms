{
  "nbformat": 4,
  "nbformat_minor": 0,
  "metadata": {
    "colab": {
      "provenance": [],
      "collapsed_sections": [],
      "authorship_tag": "ABX9TyOoPP88gSo3aVAwIRSSukl2",
      "include_colab_link": true
    },
    "kernelspec": {
      "name": "python3",
      "display_name": "Python 3"
    },
    "language_info": {
      "name": "python"
    }
  },
  "cells": [
    {
      "cell_type": "markdown",
      "metadata": {
        "id": "view-in-github",
        "colab_type": "text"
      },
      "source": [
        "<a href=\"https://colab.research.google.com/github/jehan60188/grokking_graph_algorithms/blob/main/Ch3/Search_state_space.ipynb\" target=\"_parent\"><img src=\"https://colab.research.google.com/assets/colab-badge.svg\" alt=\"Open In Colab\"/></a>"
      ]
    },
    {
      "cell_type": "markdown",
      "source": [
        "#Searching a state space\n",
        "\n",
        "This is a recursive function for searching the state space of a robot that is fixed on a finite length rail (10 units of length long on either side of a \"zero\" point), and can only move two steps forward, or one step backward.\n",
        "The state of the robot is it's position on the rail"
      ],
      "metadata": {
        "id": "25A6HrzCyZwg"
      }
    },
    {
      "cell_type": "code",
      "source": [
        "class State_Node(): #each node corresponds to a state\n",
        "  def __init__(self, name):\n",
        "        self.name = name #this name corresponds to the position on the rail\n",
        "        self.visited = False\n",
        "\n",
        "  def get_two_fwd(self):\n",
        "    return State_Node(min(self.name + 2, 10))\n",
        "\n",
        "  def get_one_back(self):\n",
        "    return State_Node(max(self.name -1, -10))\n",
        "\n",
        "  def __eq__(self, other):\n",
        "    return self.name == other.name\n",
        "\n",
        "  def __hash__(self):\n",
        "    return hash(self.name)\n",
        "\n",
        "def generate_states(curr):\n",
        "  return [curr.get_two_fwd(), curr.get_one_back()]"
      ],
      "metadata": {
        "id": "weMs8RoEyYGt"
      },
      "execution_count": 1,
      "outputs": []
    },
    {
      "cell_type": "code",
      "source": [
        "already_visited_nodes = set()\n",
        "def DFS_recursive_state(currentNode, targetState):\n",
        "    #uncomment the next line to see the current state\n",
        "    #print('curr', currentNode.name)\n",
        "    if currentNode == targetState:\n",
        "        return True\n",
        "    \n",
        "    already_visited_nodes.add(currentNode) \n",
        "    states = generate_states(currentNode)\n",
        "    #uncomment the next line to see the neighboring states\n",
        "    #print('tgt states: ', [x.name for x in states])\n",
        "    for next_state in states:\n",
        "        if next_state not in already_visited_nodes:\n",
        "            if DFS_recursive_state(next_state, targetState):\n",
        "                return True\n",
        "    return False\n",
        "\n"
      ],
      "metadata": {
        "id": "GgQyyuVoyYSQ"
      },
      "execution_count": 2,
      "outputs": []
    },
    {
      "cell_type": "code",
      "source": [
        "start = State_Node(0)\n",
        "tgt = State_Node(5)\n",
        "DFS_recursive_state(start, tgt) #return True because the target state is reachable"
      ],
      "metadata": {
        "colab": {
          "base_uri": "https://localhost:8080/"
        },
        "id": "nvuJA3A3yYVY",
        "outputId": "d260367a-e13a-497e-8a2a-97c466d0f3ee"
      },
      "execution_count": 4,
      "outputs": [
        {
          "output_type": "execute_result",
          "data": {
            "text/plain": [
              "True"
            ]
          },
          "metadata": {},
          "execution_count": 4
        }
      ]
    }
  ]
}
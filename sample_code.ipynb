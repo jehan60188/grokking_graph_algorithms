{
  "nbformat": 4,
  "nbformat_minor": 0,
  "metadata": {
    "colab": {
      "name": "Pycon_2022_DnDnG.ipynb",
      "provenance": [],
      "collapsed_sections": [],
      "authorship_tag": "ABX9TyPZ8dksGM6naIEfkFPkxCGM",
      "include_colab_link": true
    },
    "kernelspec": {
      "name": "python3",
      "display_name": "Python 3"
    },
    "language_info": {
      "name": "python"
    }
  },
  "cells": [
    {
      "cell_type": "markdown",
      "metadata": {
        "id": "view-in-github",
        "colab_type": "text"
      },
      "source": [
        "<a href=\"https://colab.research.google.com/github/jehan60188/grokking_graph_algorithms/blob/main/sample_code.ipynb\" target=\"_parent\"><img src=\"https://colab.research.google.com/assets/colab-badge.svg\" alt=\"Open In Colab\"/></a>"
      ]
    },
    {
      "cell_type": "code",
      "execution_count": null,
      "metadata": {
        "id": "4nVVzVb5FySE"
      },
      "outputs": [],
      "source": [
        "import numpy as np\n",
        "import networkx as nx"
      ]
    },
    {
      "cell_type": "markdown",
      "source": [
        "TODO: add images"
      ],
      "metadata": {
        "id": "fPlPg-aNi5k0"
      }
    },
    {
      "cell_type": "markdown",
      "source": [
        "# Defining graphs\n",
        "* degree matrix\n",
        "* adjacency matrix\n",
        "* edge list\n",
        "* adjacency list\n",
        "* adjacency map"
      ],
      "metadata": {
        "id": "lunSjZVjiz19"
      }
    },
    {
      "cell_type": "code",
      "source": [
        "G_DegMatrix = [[0,1,0,1],[1,0,1,1],[0,1,0,1],[1,1,1,0]]\n",
        "G_AdjMatrix = [[0,1,0,2],[1,0,1,1],[0,1,0,2],[2,1,2,0]]\n",
        "A, B, C, D = \"ABCD\"\n",
        "G_EdgeList = [(A,B),(A,D),(A,D),(B,C),(B,D),(C,D),(C,D)]\n",
        "G_AdjList = [[B,D,D],[A,C,D],[B,D,D],[A,A,C,C,B]]\n",
        "G_adjMap = {A:[B,D,D],\n",
        "      B: [A,C,D],\n",
        "      C:[B,D,D],\n",
        "      D:[A,A,C,C,B]}\n"
      ],
      "metadata": {
        "id": "sJC6Vc4jF2wt"
      },
      "execution_count": null,
      "outputs": []
    },
    {
      "cell_type": "markdown",
      "source": [
        "# depth first search (DFS)\n",
        "\n",
        "* easy to implement\n",
        "* not very efficient\n"
      ],
      "metadata": {
        "id": "JGKd2or1ojeK"
      }
    },
    {
      "cell_type": "code",
      "source": [
        "visited = set()\n",
        "\n",
        "def dfs(_curr, _target): \n",
        "  if _curr == _target:\n",
        "    return True\n",
        "  visited.add(_curr)\n",
        "  for item in G_adjMap[_curr]:\n",
        "    if item in visited:\n",
        "      continue\n",
        "    if dfs(item, _target):\n",
        "      return True\n",
        "  return False\n",
        "\n",
        "dfs(A,D)"
      ],
      "metadata": {
        "colab": {
          "base_uri": "https://localhost:8080/"
        },
        "id": "7YWuDpyaJSaz",
        "outputId": "06c8164d-4ef8-4c42-b5d2-44d8948ad7f6"
      },
      "execution_count": null,
      "outputs": [
        {
          "output_type": "execute_result",
          "data": {
            "text/plain": [
              "True"
            ]
          },
          "metadata": {},
          "execution_count": 19
        }
      ]
    },
    {
      "cell_type": "markdown",
      "source": [
        "DFS is usually not the most efficient search algorihtm.\n",
        "\n",
        "\n",
        "Breadth first search can find target nodes in as few jumps between nodes as possible. It is implemented with a queue (first in, first out).\n",
        "\n",
        "Here, instead of tracking nodes with a set, I create a custom node object and mark it as visited. "
      ],
      "metadata": {
        "id": "0ucm3JmatShv"
      }
    },
    {
      "cell_type": "code",
      "source": [
        "from typing import List\n",
        "from collections import defaultdict\n",
        "\n",
        "class Node():\n",
        "  def __init__(self, name, neighbors: List['Node'] = None):\n",
        "    self.name = name\n",
        "    self.visited = False\n",
        "    self.neighbors = neighbors\n",
        "\n",
        "class DefaultNodeDict(dict):\n",
        "    def __missing__(self, key):\n",
        "      res = self[key] = Node(key)\n",
        "      return res\n",
        "      \n",
        "#we're implmenting our own ndoe class, but still tracking the graph manually\n",
        "_graph = DefaultNodeDict()\n",
        "for k, v in G_adjMap.items():\n",
        "  _graph[k].neighbors = [_graph[x] for x in v]\n",
        "\n",
        "\n",
        "def BFS(_start, _tgt):\n",
        "  Q = [_start]\n",
        "  while Q:\n",
        "    curr = Q.pop()\n",
        "    if curr == _tgt:\n",
        "      return True\n",
        "    curr.visited = True\n",
        "    for neighbor in curr.neighbors:\n",
        "      if not neighbor.visited:\n",
        "        Q.append(neighbor)\n",
        "  return False\n",
        "\n",
        "BFS(_graph[A], _graph[B])"
      ],
      "metadata": {
        "id": "rZojS3xntSsm",
        "colab": {
          "base_uri": "https://localhost:8080/"
        },
        "outputId": "17b6a562-41df-4541-c598-191ca08b551d"
      },
      "execution_count": null,
      "outputs": [
        {
          "output_type": "execute_result",
          "data": {
            "text/plain": [
              "True"
            ]
          },
          "metadata": {},
          "execution_count": 67
        }
      ]
    },
    {
      "cell_type": "markdown",
      "source": [
        "Dijkstra’s algorithm finds the shortest path in a weighted graph.\n",
        "\n",
        "First, let's define a weighted graph"
      ],
      "metadata": {
        "id": "0-fKTpIeXoFJ"
      }
    },
    {
      "cell_type": "code",
      "source": [
        "import pprint\n",
        "\n",
        "#let's define a new graph, now with weighted edges.\n",
        "import numpy as np\n",
        "np.random.seed(0)\n",
        "\n",
        "#remember, the old graph looked like this...\n",
        "G_adjMap = {A:[B,D,D],\n",
        "      B: [A,C,D],\n",
        "      C:[B,D,D],\n",
        "      D:[A,A,C,C,B]}\n",
        "G_adjMap_bak = {k:v.copy() for k, v in G_adjMap.items()}\n",
        "\n",
        "#attach random weights to G\n",
        "#note, this graph is undirected, so weights must be symetric!\n",
        "G_weighted = {}\n",
        "for k, v in G_adjMap.items():\n",
        "  for neighbor in v:\n",
        "    _weight = np.random.randint(1,5)\n",
        "    G_weighted[k] = G_weighted.get(k, []) + [(neighbor, _weight)]\n",
        "    G_weighted[neighbor] = G_weighted.get(neighbor, []) + [(k, _weight)]\n",
        "    G_adjMap[neighbor].remove(k)\n",
        "  \n",
        "\n",
        "G_adjMap = G_adjMap_bak.copy()\n",
        "pprint.pprint(('adding random weights to the undirected graph', G_adjMap))\n",
        "pprint.pprint(('result', G_weighted))\n",
        "\n"
      ],
      "metadata": {
        "colab": {
          "base_uri": "https://localhost:8080/"
        },
        "id": "Rx5uOc-RWh59",
        "outputId": "9d5212f0-f3c9-4f60-ec45-b358a4028493"
      },
      "execution_count": 112,
      "outputs": [
        {
          "output_type": "stream",
          "name": "stdout",
          "text": [
            "('adding random weights to the undirected graph',\n",
            " {'A': ['B', 'D', 'D'],\n",
            "  'B': ['A', 'C', 'D'],\n",
            "  'C': ['B', 'D', 'D'],\n",
            "  'D': ['A', 'A', 'C', 'C', 'B']})\n",
            "('result',\n",
            " {'A': [('B', 1), ('D', 4), ('D', 2)],\n",
            "  'B': [('A', 1), ('C', 1), ('D', 4)],\n",
            "  'C': [('B', 1), ('D', 4), ('D', 4)],\n",
            "  'D': [('A', 4), ('A', 2), ('B', 4), ('C', 4), ('C', 4)]})\n"
          ]
        }
      ]
    },
    {
      "cell_type": "code",
      "source": [
        "#coming soon!\n"
      ],
      "metadata": {
        "id": "ec-jKrL1ZKzY"
      },
      "execution_count": 156,
      "outputs": []
    }
  ]
}